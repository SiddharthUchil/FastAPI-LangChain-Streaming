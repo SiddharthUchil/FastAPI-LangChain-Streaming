{
 "cells": [
  {
   "cell_type": "code",
   "execution_count": 1,
   "metadata": {},
   "outputs": [],
   "source": [
    "from langchain_core.output_parsers import StrOutputParser\n",
    "from langchain_core.prompts import ChatPromptTemplate\n",
    "from langchain_openai import ChatOpenAI\n",
    "from dotenv import load_dotenv\n",
    "\n",
    "load_dotenv()\n",
    "\n",
    "model = ChatOpenAI(temperature=0, streaming=True)\n",
    "prompt = ChatPromptTemplate.from_template(\"tell me a joke about {topic}. 200 Words\")\n",
    "parser = StrOutputParser()\n",
    "chain = prompt | model | parser"
   ]
  },
  {
   "cell_type": "code",
   "execution_count": 2,
   "metadata": {},
   "outputs": [
    {
     "name": "stdout",
     "output_type": "stream",
     "text": [
      "Why did the parrot wear a raincoat?\n",
      "\n",
      "Because he wanted to be polyunsaturated! \n",
      "\n",
      "Parrots are known for their colorful feathers, ability to mimic human speech, and playful personalities. They are often kept as pets and can provide hours of entertainment with their antics and vocalizations. However, they can also be mischievous and have a tendency to repeat things they hear, which can sometimes get them into trouble.\n",
      "\n",
      "One day, a man walked into a pet store looking to buy a parrot. The store owner showed him a beautiful green and yellow parrot that could sing and dance. The man was impressed and decided to purchase the parrot. \n",
      "\n",
      "As he was leaving the store, the parrot looked at him and said, \"Hey, buddy, you're not as good-looking as you think you are!\" The man was taken aback and asked the store owner why the parrot had said that. The store owner replied, \"Oh, don't mind him, he's just a little bird-brained!\"\n",
      "\n",
      "The man chuckled at the parrot's cheeky remark and realized that he was in for a lifetime of laughter and surprises with his new feathered friend."
     ]
    }
   ],
   "source": [
    "for chunk in chain.stream(\"parrot\"):\n",
    "    print(chunk, end=\"\", flush=True)"
   ]
  },
  {
   "cell_type": "code",
   "execution_count": 3,
   "metadata": {},
   "outputs": [
    {
     "name": "stdout",
     "output_type": "stream",
     "text": [
      "Why did the parrot wear a raincoat?\n",
      "\n",
      "Because he wanted to be polyunsaturated!\n",
      "\n",
      "Parrots are known for their ability to mimic sounds and words, but did you know they also have a great sense of humor? One day, a man walked into a pet store looking to buy a parrot. The store owner showed him a beautiful green parrot that could talk and sing. The man was impressed and decided to buy the parrot.\n",
      "\n",
      "As soon as he got home, the man started teaching the parrot new words and phrases. The parrot quickly picked up on the man's sense of humor and started cracking jokes of its own. One day, the man's friends came over for a visit, and the parrot decided to show off its comedic skills.\n",
      "\n",
      "\"Knock, knock,\" the parrot said.\n",
      "\n",
      "\"Who's there?\" the man's friends replied.\n",
      "\n",
      "\"Who's a pretty bird? Who's a pretty bird?\" the parrot squawked, causing everyone to burst into laughter.\n",
      "\n",
      "From that day on, the parrot became the life of the party, entertaining guests with its witty jokes and funny antics. The man couldn't have been happier with his new feathered friend."
     ]
    }
   ],
   "source": [
    "async for chunk in chain.astream(\"parrot\"):\n",
    "    print(chunk, end=\"\", flush=True)"
   ]
  },
  {
   "cell_type": "markdown",
   "metadata": {},
   "source": [
    "Events"
   ]
  },
  {
   "cell_type": "code",
   "execution_count": 4,
   "metadata": {},
   "outputs": [
    {
     "name": "stdout",
     "output_type": "stream",
     "text": [
      "{'event': 'on_chat_model_start', 'run_id': '75e903ca-6ec6-43fa-bc83-f0fe0151f07a', 'name': 'ChatOpenAI', 'tags': [], 'metadata': {}, 'data': {'input': 'parrot'}}\n"
     ]
    },
    {
     "name": "stderr",
     "output_type": "stream",
     "text": [
      "c:\\Users\\91982\\Desktop\\LangChain\\FastAPI-LangChain-Streaming\\venv\\Lib\\site-packages\\langchain_core\\_api\\beta_decorator.py:87: LangChainBetaWarning: This API is in beta and may change in the future.\n",
      "  warn_beta(\n"
     ]
    },
    {
     "name": "stdout",
     "output_type": "stream",
     "text": [
      "{'event': 'on_chat_model_stream', 'run_id': '75e903ca-6ec6-43fa-bc83-f0fe0151f07a', 'tags': [], 'metadata': {}, 'name': 'ChatOpenAI', 'data': {'chunk': AIMessageChunk(content='', id='run-75e903ca-6ec6-43fa-bc83-f0fe0151f07a')}}\n",
      "{'event': 'on_chat_model_stream', 'run_id': '75e903ca-6ec6-43fa-bc83-f0fe0151f07a', 'tags': [], 'metadata': {}, 'name': 'ChatOpenAI', 'data': {'chunk': AIMessageChunk(content='A', id='run-75e903ca-6ec6-43fa-bc83-f0fe0151f07a')}}\n",
      "{'event': 'on_chat_model_stream', 'run_id': '75e903ca-6ec6-43fa-bc83-f0fe0151f07a', 'tags': [], 'metadata': {}, 'name': 'ChatOpenAI', 'data': {'chunk': AIMessageChunk(content=' par', id='run-75e903ca-6ec6-43fa-bc83-f0fe0151f07a')}}\n",
      "{'event': 'on_chat_model_stream', 'run_id': '75e903ca-6ec6-43fa-bc83-f0fe0151f07a', 'tags': [], 'metadata': {}, 'name': 'ChatOpenAI', 'data': {'chunk': AIMessageChunk(content='rot', id='run-75e903ca-6ec6-43fa-bc83-f0fe0151f07a')}}\n",
      "{'event': 'on_chat_model_stream', 'run_id': '75e903ca-6ec6-43fa-bc83-f0fe0151f07a', 'tags': [], 'metadata': {}, 'name': 'ChatOpenAI', 'data': {'chunk': AIMessageChunk(content=' is', id='run-75e903ca-6ec6-43fa-bc83-f0fe0151f07a')}}\n",
      "{'event': 'on_chat_model_stream', 'run_id': '75e903ca-6ec6-43fa-bc83-f0fe0151f07a', 'tags': [], 'metadata': {}, 'name': 'ChatOpenAI', 'data': {'chunk': AIMessageChunk(content=' a', id='run-75e903ca-6ec6-43fa-bc83-f0fe0151f07a')}}\n",
      "{'event': 'on_chat_model_stream', 'run_id': '75e903ca-6ec6-43fa-bc83-f0fe0151f07a', 'tags': [], 'metadata': {}, 'name': 'ChatOpenAI', 'data': {'chunk': AIMessageChunk(content=' type', id='run-75e903ca-6ec6-43fa-bc83-f0fe0151f07a')}}\n",
      "{'event': 'on_chat_model_stream', 'run_id': '75e903ca-6ec6-43fa-bc83-f0fe0151f07a', 'tags': [], 'metadata': {}, 'name': 'ChatOpenAI', 'data': {'chunk': AIMessageChunk(content=' of', id='run-75e903ca-6ec6-43fa-bc83-f0fe0151f07a')}}\n",
      "{'event': 'on_chat_model_stream', 'run_id': '75e903ca-6ec6-43fa-bc83-f0fe0151f07a', 'tags': [], 'metadata': {}, 'name': 'ChatOpenAI', 'data': {'chunk': AIMessageChunk(content=' bird', id='run-75e903ca-6ec6-43fa-bc83-f0fe0151f07a')}}\n",
      "{'event': 'on_chat_model_stream', 'run_id': '75e903ca-6ec6-43fa-bc83-f0fe0151f07a', 'tags': [], 'metadata': {}, 'name': 'ChatOpenAI', 'data': {'chunk': AIMessageChunk(content=' known', id='run-75e903ca-6ec6-43fa-bc83-f0fe0151f07a')}}\n",
      "{'event': 'on_chat_model_stream', 'run_id': '75e903ca-6ec6-43fa-bc83-f0fe0151f07a', 'tags': [], 'metadata': {}, 'name': 'ChatOpenAI', 'data': {'chunk': AIMessageChunk(content=' for', id='run-75e903ca-6ec6-43fa-bc83-f0fe0151f07a')}}\n",
      "{'event': 'on_chat_model_stream', 'run_id': '75e903ca-6ec6-43fa-bc83-f0fe0151f07a', 'tags': [], 'metadata': {}, 'name': 'ChatOpenAI', 'data': {'chunk': AIMessageChunk(content=' its', id='run-75e903ca-6ec6-43fa-bc83-f0fe0151f07a')}}\n",
      "{'event': 'on_chat_model_stream', 'run_id': '75e903ca-6ec6-43fa-bc83-f0fe0151f07a', 'tags': [], 'metadata': {}, 'name': 'ChatOpenAI', 'data': {'chunk': AIMessageChunk(content=' colorful', id='run-75e903ca-6ec6-43fa-bc83-f0fe0151f07a')}}\n",
      "{'event': 'on_chat_model_stream', 'run_id': '75e903ca-6ec6-43fa-bc83-f0fe0151f07a', 'tags': [], 'metadata': {}, 'name': 'ChatOpenAI', 'data': {'chunk': AIMessageChunk(content=' feathers', id='run-75e903ca-6ec6-43fa-bc83-f0fe0151f07a')}}\n",
      "{'event': 'on_chat_model_stream', 'run_id': '75e903ca-6ec6-43fa-bc83-f0fe0151f07a', 'tags': [], 'metadata': {}, 'name': 'ChatOpenAI', 'data': {'chunk': AIMessageChunk(content=',', id='run-75e903ca-6ec6-43fa-bc83-f0fe0151f07a')}}\n",
      "{'event': 'on_chat_model_stream', 'run_id': '75e903ca-6ec6-43fa-bc83-f0fe0151f07a', 'tags': [], 'metadata': {}, 'name': 'ChatOpenAI', 'data': {'chunk': AIMessageChunk(content=' ability', id='run-75e903ca-6ec6-43fa-bc83-f0fe0151f07a')}}\n",
      "{'event': 'on_chat_model_stream', 'run_id': '75e903ca-6ec6-43fa-bc83-f0fe0151f07a', 'tags': [], 'metadata': {}, 'name': 'ChatOpenAI', 'data': {'chunk': AIMessageChunk(content=' to', id='run-75e903ca-6ec6-43fa-bc83-f0fe0151f07a')}}\n",
      "{'event': 'on_chat_model_stream', 'run_id': '75e903ca-6ec6-43fa-bc83-f0fe0151f07a', 'tags': [], 'metadata': {}, 'name': 'ChatOpenAI', 'data': {'chunk': AIMessageChunk(content=' mimic', id='run-75e903ca-6ec6-43fa-bc83-f0fe0151f07a')}}\n",
      "{'event': 'on_chat_model_stream', 'run_id': '75e903ca-6ec6-43fa-bc83-f0fe0151f07a', 'tags': [], 'metadata': {}, 'name': 'ChatOpenAI', 'data': {'chunk': AIMessageChunk(content=' sounds', id='run-75e903ca-6ec6-43fa-bc83-f0fe0151f07a')}}\n",
      "{'event': 'on_chat_model_stream', 'run_id': '75e903ca-6ec6-43fa-bc83-f0fe0151f07a', 'tags': [], 'metadata': {}, 'name': 'ChatOpenAI', 'data': {'chunk': AIMessageChunk(content=',', id='run-75e903ca-6ec6-43fa-bc83-f0fe0151f07a')}}\n",
      "{'event': 'on_chat_model_stream', 'run_id': '75e903ca-6ec6-43fa-bc83-f0fe0151f07a', 'tags': [], 'metadata': {}, 'name': 'ChatOpenAI', 'data': {'chunk': AIMessageChunk(content=' and', id='run-75e903ca-6ec6-43fa-bc83-f0fe0151f07a')}}\n",
      "{'event': 'on_chat_model_stream', 'run_id': '75e903ca-6ec6-43fa-bc83-f0fe0151f07a', 'tags': [], 'metadata': {}, 'name': 'ChatOpenAI', 'data': {'chunk': AIMessageChunk(content=' intelligence', id='run-75e903ca-6ec6-43fa-bc83-f0fe0151f07a')}}\n",
      "{'event': 'on_chat_model_stream', 'run_id': '75e903ca-6ec6-43fa-bc83-f0fe0151f07a', 'tags': [], 'metadata': {}, 'name': 'ChatOpenAI', 'data': {'chunk': AIMessageChunk(content='.', id='run-75e903ca-6ec6-43fa-bc83-f0fe0151f07a')}}\n",
      "{'event': 'on_chat_model_stream', 'run_id': '75e903ca-6ec6-43fa-bc83-f0fe0151f07a', 'tags': [], 'metadata': {}, 'name': 'ChatOpenAI', 'data': {'chunk': AIMessageChunk(content=' They', id='run-75e903ca-6ec6-43fa-bc83-f0fe0151f07a')}}\n",
      "{'event': 'on_chat_model_stream', 'run_id': '75e903ca-6ec6-43fa-bc83-f0fe0151f07a', 'tags': [], 'metadata': {}, 'name': 'ChatOpenAI', 'data': {'chunk': AIMessageChunk(content=' are', id='run-75e903ca-6ec6-43fa-bc83-f0fe0151f07a')}}\n",
      "{'event': 'on_chat_model_stream', 'run_id': '75e903ca-6ec6-43fa-bc83-f0fe0151f07a', 'tags': [], 'metadata': {}, 'name': 'ChatOpenAI', 'data': {'chunk': AIMessageChunk(content=' often', id='run-75e903ca-6ec6-43fa-bc83-f0fe0151f07a')}}\n",
      "{'event': 'on_chat_model_stream', 'run_id': '75e903ca-6ec6-43fa-bc83-f0fe0151f07a', 'tags': [], 'metadata': {}, 'name': 'ChatOpenAI', 'data': {'chunk': AIMessageChunk(content=' kept', id='run-75e903ca-6ec6-43fa-bc83-f0fe0151f07a')}}\n",
      "{'event': 'on_chat_model_stream', 'run_id': '75e903ca-6ec6-43fa-bc83-f0fe0151f07a', 'tags': [], 'metadata': {}, 'name': 'ChatOpenAI', 'data': {'chunk': AIMessageChunk(content=' as', id='run-75e903ca-6ec6-43fa-bc83-f0fe0151f07a')}}\n",
      "{'event': 'on_chat_model_stream', 'run_id': '75e903ca-6ec6-43fa-bc83-f0fe0151f07a', 'tags': [], 'metadata': {}, 'name': 'ChatOpenAI', 'data': {'chunk': AIMessageChunk(content=' pets', id='run-75e903ca-6ec6-43fa-bc83-f0fe0151f07a')}}\n",
      "{'event': 'on_chat_model_stream', 'run_id': '75e903ca-6ec6-43fa-bc83-f0fe0151f07a', 'tags': [], 'metadata': {}, 'name': 'ChatOpenAI', 'data': {'chunk': AIMessageChunk(content=' and', id='run-75e903ca-6ec6-43fa-bc83-f0fe0151f07a')}}\n",
      "{'event': 'on_chat_model_stream', 'run_id': '75e903ca-6ec6-43fa-bc83-f0fe0151f07a', 'tags': [], 'metadata': {}, 'name': 'ChatOpenAI', 'data': {'chunk': AIMessageChunk(content=' can', id='run-75e903ca-6ec6-43fa-bc83-f0fe0151f07a')}}\n",
      "{'event': 'on_chat_model_stream', 'run_id': '75e903ca-6ec6-43fa-bc83-f0fe0151f07a', 'tags': [], 'metadata': {}, 'name': 'ChatOpenAI', 'data': {'chunk': AIMessageChunk(content=' be', id='run-75e903ca-6ec6-43fa-bc83-f0fe0151f07a')}}\n",
      "{'event': 'on_chat_model_stream', 'run_id': '75e903ca-6ec6-43fa-bc83-f0fe0151f07a', 'tags': [], 'metadata': {}, 'name': 'ChatOpenAI', 'data': {'chunk': AIMessageChunk(content=' trained', id='run-75e903ca-6ec6-43fa-bc83-f0fe0151f07a')}}\n",
      "{'event': 'on_chat_model_stream', 'run_id': '75e903ca-6ec6-43fa-bc83-f0fe0151f07a', 'tags': [], 'metadata': {}, 'name': 'ChatOpenAI', 'data': {'chunk': AIMessageChunk(content=' to', id='run-75e903ca-6ec6-43fa-bc83-f0fe0151f07a')}}\n",
      "{'event': 'on_chat_model_stream', 'run_id': '75e903ca-6ec6-43fa-bc83-f0fe0151f07a', 'tags': [], 'metadata': {}, 'name': 'ChatOpenAI', 'data': {'chunk': AIMessageChunk(content=' talk', id='run-75e903ca-6ec6-43fa-bc83-f0fe0151f07a')}}\n",
      "{'event': 'on_chat_model_stream', 'run_id': '75e903ca-6ec6-43fa-bc83-f0fe0151f07a', 'tags': [], 'metadata': {}, 'name': 'ChatOpenAI', 'data': {'chunk': AIMessageChunk(content=' and', id='run-75e903ca-6ec6-43fa-bc83-f0fe0151f07a')}}\n",
      "{'event': 'on_chat_model_stream', 'run_id': '75e903ca-6ec6-43fa-bc83-f0fe0151f07a', 'tags': [], 'metadata': {}, 'name': 'ChatOpenAI', 'data': {'chunk': AIMessageChunk(content=' perform', id='run-75e903ca-6ec6-43fa-bc83-f0fe0151f07a')}}\n",
      "{'event': 'on_chat_model_stream', 'run_id': '75e903ca-6ec6-43fa-bc83-f0fe0151f07a', 'tags': [], 'metadata': {}, 'name': 'ChatOpenAI', 'data': {'chunk': AIMessageChunk(content=' tricks', id='run-75e903ca-6ec6-43fa-bc83-f0fe0151f07a')}}\n",
      "{'event': 'on_chat_model_stream', 'run_id': '75e903ca-6ec6-43fa-bc83-f0fe0151f07a', 'tags': [], 'metadata': {}, 'name': 'ChatOpenAI', 'data': {'chunk': AIMessageChunk(content='.', id='run-75e903ca-6ec6-43fa-bc83-f0fe0151f07a')}}\n",
      "{'event': 'on_chat_model_stream', 'run_id': '75e903ca-6ec6-43fa-bc83-f0fe0151f07a', 'tags': [], 'metadata': {}, 'name': 'ChatOpenAI', 'data': {'chunk': AIMessageChunk(content=' Par', id='run-75e903ca-6ec6-43fa-bc83-f0fe0151f07a')}}\n",
      "{'event': 'on_chat_model_stream', 'run_id': '75e903ca-6ec6-43fa-bc83-f0fe0151f07a', 'tags': [], 'metadata': {}, 'name': 'ChatOpenAI', 'data': {'chunk': AIMessageChunk(content='rots', id='run-75e903ca-6ec6-43fa-bc83-f0fe0151f07a')}}\n",
      "{'event': 'on_chat_model_stream', 'run_id': '75e903ca-6ec6-43fa-bc83-f0fe0151f07a', 'tags': [], 'metadata': {}, 'name': 'ChatOpenAI', 'data': {'chunk': AIMessageChunk(content=' are', id='run-75e903ca-6ec6-43fa-bc83-f0fe0151f07a')}}\n",
      "{'event': 'on_chat_model_stream', 'run_id': '75e903ca-6ec6-43fa-bc83-f0fe0151f07a', 'tags': [], 'metadata': {}, 'name': 'ChatOpenAI', 'data': {'chunk': AIMessageChunk(content=' found', id='run-75e903ca-6ec6-43fa-bc83-f0fe0151f07a')}}\n",
      "{'event': 'on_chat_model_stream', 'run_id': '75e903ca-6ec6-43fa-bc83-f0fe0151f07a', 'tags': [], 'metadata': {}, 'name': 'ChatOpenAI', 'data': {'chunk': AIMessageChunk(content=' in', id='run-75e903ca-6ec6-43fa-bc83-f0fe0151f07a')}}\n",
      "{'event': 'on_chat_model_stream', 'run_id': '75e903ca-6ec6-43fa-bc83-f0fe0151f07a', 'tags': [], 'metadata': {}, 'name': 'ChatOpenAI', 'data': {'chunk': AIMessageChunk(content=' tropical', id='run-75e903ca-6ec6-43fa-bc83-f0fe0151f07a')}}\n",
      "{'event': 'on_chat_model_stream', 'run_id': '75e903ca-6ec6-43fa-bc83-f0fe0151f07a', 'tags': [], 'metadata': {}, 'name': 'ChatOpenAI', 'data': {'chunk': AIMessageChunk(content=' and', id='run-75e903ca-6ec6-43fa-bc83-f0fe0151f07a')}}\n",
      "{'event': 'on_chat_model_stream', 'run_id': '75e903ca-6ec6-43fa-bc83-f0fe0151f07a', 'tags': [], 'metadata': {}, 'name': 'ChatOpenAI', 'data': {'chunk': AIMessageChunk(content=' subt', id='run-75e903ca-6ec6-43fa-bc83-f0fe0151f07a')}}\n",
      "{'event': 'on_chat_model_stream', 'run_id': '75e903ca-6ec6-43fa-bc83-f0fe0151f07a', 'tags': [], 'metadata': {}, 'name': 'ChatOpenAI', 'data': {'chunk': AIMessageChunk(content='ropical', id='run-75e903ca-6ec6-43fa-bc83-f0fe0151f07a')}}\n",
      "{'event': 'on_chat_model_stream', 'run_id': '75e903ca-6ec6-43fa-bc83-f0fe0151f07a', 'tags': [], 'metadata': {}, 'name': 'ChatOpenAI', 'data': {'chunk': AIMessageChunk(content=' regions', id='run-75e903ca-6ec6-43fa-bc83-f0fe0151f07a')}}\n",
      "{'event': 'on_chat_model_stream', 'run_id': '75e903ca-6ec6-43fa-bc83-f0fe0151f07a', 'tags': [], 'metadata': {}, 'name': 'ChatOpenAI', 'data': {'chunk': AIMessageChunk(content=' around', id='run-75e903ca-6ec6-43fa-bc83-f0fe0151f07a')}}\n",
      "{'event': 'on_chat_model_stream', 'run_id': '75e903ca-6ec6-43fa-bc83-f0fe0151f07a', 'tags': [], 'metadata': {}, 'name': 'ChatOpenAI', 'data': {'chunk': AIMessageChunk(content=' the', id='run-75e903ca-6ec6-43fa-bc83-f0fe0151f07a')}}\n",
      "{'event': 'on_chat_model_stream', 'run_id': '75e903ca-6ec6-43fa-bc83-f0fe0151f07a', 'tags': [], 'metadata': {}, 'name': 'ChatOpenAI', 'data': {'chunk': AIMessageChunk(content=' world', id='run-75e903ca-6ec6-43fa-bc83-f0fe0151f07a')}}\n",
      "{'event': 'on_chat_model_stream', 'run_id': '75e903ca-6ec6-43fa-bc83-f0fe0151f07a', 'tags': [], 'metadata': {}, 'name': 'ChatOpenAI', 'data': {'chunk': AIMessageChunk(content='.', id='run-75e903ca-6ec6-43fa-bc83-f0fe0151f07a')}}\n",
      "{'event': 'on_chat_model_stream', 'run_id': '75e903ca-6ec6-43fa-bc83-f0fe0151f07a', 'tags': [], 'metadata': {}, 'name': 'ChatOpenAI', 'data': {'chunk': AIMessageChunk(content='', response_metadata={'finish_reason': 'stop'}, id='run-75e903ca-6ec6-43fa-bc83-f0fe0151f07a')}}\n",
      "{'event': 'on_chat_model_end', 'name': 'ChatOpenAI', 'run_id': '75e903ca-6ec6-43fa-bc83-f0fe0151f07a', 'tags': [], 'metadata': {}, 'data': {'output': AIMessageChunk(content='A parrot is a type of bird known for its colorful feathers, ability to mimic sounds, and intelligence. They are often kept as pets and can be trained to talk and perform tricks. Parrots are found in tropical and subtropical regions around the world.', response_metadata={'finish_reason': 'stop'}, id='run-75e903ca-6ec6-43fa-bc83-f0fe0151f07a')}}\n"
     ]
    }
   ],
   "source": [
    "async for event in model.astream_events(\"parrot\", version=\"v1\"):\n",
    "    print(event, flush=True)"
   ]
  },
  {
   "cell_type": "code",
   "execution_count": 5,
   "metadata": {},
   "outputs": [
    {
     "name": "stdout",
     "output_type": "stream",
     "text": [
      "Unique event types: {'on_chat_model_end', 'on_chat_model_start', 'on_chat_model_stream'}\n"
     ]
    }
   ],
   "source": [
    "events = []\n",
    "async for event in model.astream_events(\"parrot\", version=\"v1\"):\n",
    "    events.append(event)\n",
    "event_types = {event[\"event\"] for event in events}\n",
    "print(\"Unique event types:\", event_types)"
   ]
  },
  {
   "cell_type": "code",
   "execution_count": 6,
   "metadata": {},
   "outputs": [
    {
     "name": "stdout",
     "output_type": "stream",
     "text": [
      "Stream started...\n",
      "A parrot is a type of bird known for its colorful feathers, ability to mimic sounds, and intelligence. They are often kept as pets and can be trained to talk and perform tricks. Parrots are found in tropical and subtropical regions around the world."
     ]
    }
   ],
   "source": [
    "async for event in model.astream_events(\"parrot\", version=\"v1\"):\n",
    "    if event[\"event\"] == \"on_chat_model_start\":\n",
    "        print(\"Stream started...\", flush=True)\n",
    "    elif event[\"event\"] == \"on_chat_model_stream\":\n",
    "        print(event[\"data\"][\"chunk\"].content, end=\"\", flush=True)"
   ]
  }
 ],
 "metadata": {
  "kernelspec": {
   "display_name": "app",
   "language": "python",
   "name": "python3"
  },
  "language_info": {
   "codemirror_mode": {
    "name": "ipython",
    "version": 3
   },
   "file_extension": ".py",
   "mimetype": "text/x-python",
   "name": "python",
   "nbconvert_exporter": "python",
   "pygments_lexer": "ipython3",
   "version": "3.11.5"
  }
 },
 "nbformat": 4,
 "nbformat_minor": 2
}
